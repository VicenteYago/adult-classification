{
 "cells": [
  {
   "cell_type": "markdown",
   "id": "89f14637",
   "metadata": {},
   "source": [
    "# Feature engineering & modelling"
   ]
  },
  {
   "cell_type": "markdown",
   "id": "38e9a66e",
   "metadata": {},
   "source": [
    "## 1 - Introduction"
   ]
  },
  {
   "cell_type": "code",
   "execution_count": 1,
   "id": "1e35a7d5",
   "metadata": {},
   "outputs": [],
   "source": [
    "import pandas as pd\n",
    "import numpy as np\n",
    "import matplotlib.pyplot as plt\n",
    "import seaborn as sns\n",
    "import pickle\n",
    "import os\n",
    "from numpy import mean\n",
    "\n",
    "\n",
    "from sklearn.preprocessing import RobustScaler\n",
    "from sklearn.model_selection import train_test_split\n",
    "from sklearn.metrics import accuracy_score, classification_report, plot_roc_curve, roc_auc_score, ConfusionMatrixDisplay, confusion_matrix\n",
    "\n",
    "from sklearn.svm import SVC\n",
    "from sklearn.linear_model import LogisticRegression\n",
    "from sklearn.ensemble import RandomForestClassifier\n",
    "from sklearn.tree import DecisionTreeClassifier\n",
    "from sklearn.ensemble import GradientBoostingClassifier\n",
    "from sklearn.model_selection import RepeatedStratifiedKFold\n",
    "from sklearn.model_selection import cross_validate\n",
    "from sklearn.model_selection import GridSearchCV\n",
    "\n",
    "from imblearn.over_sampling import SMOTE\n",
    "from imblearn.pipeline import Pipeline\n",
    "from imblearn.under_sampling import RandomUnderSampler\n",
    "\n",
    "model_dir = \"./models\""
   ]
  },
  {
   "cell_type": "markdown",
   "id": "afd5d2b7",
   "metadata": {},
   "source": [
    "## 2 - Feature Engineering"
   ]
  },
  {
   "cell_type": "code",
   "execution_count": 2,
   "id": "8249de1b",
   "metadata": {},
   "outputs": [],
   "source": [
    "train = pd.read_pickle('./data/train_eda.pkl')\n",
    "test  = pd.read_pickle('./data/test_eda.pkl')"
   ]
  },
  {
   "cell_type": "code",
   "execution_count": 3,
   "id": "597ad1d1",
   "metadata": {},
   "outputs": [],
   "source": [
    "# One hot encondig for categorical features\n",
    "numerics  = ['int16', 'int32', 'int64', 'float16', 'float32', 'float64']\n",
    "train_num = train.select_dtypes(include=numerics)\n",
    "train_cat = train.select_dtypes(include=['object'])\n",
    "\n",
    "train_cat.drop(['label'], axis = 1, inplace=True)\n",
    "train[\"label\"] = (train[\"label\"] == \" >50K\").astype(int)\n",
    "train_fix = pd.get_dummies(train, columns = train_cat.columns, prefix_sep='_')\n",
    "train_fix.columns = train_fix.columns.str.replace(' ', '')\n",
    "\n",
    "# Defining feature and target\n",
    "y = train_fix[['label']]\n",
    "X = train_fix.drop(['label'], axis = 1)"
   ]
  },
  {
   "cell_type": "code",
   "execution_count": 4,
   "id": "3d58aa0c",
   "metadata": {},
   "outputs": [
    {
     "data": {
      "text/html": [
       "<div>\n",
       "<style scoped>\n",
       "    .dataframe tbody tr th:only-of-type {\n",
       "        vertical-align: middle;\n",
       "    }\n",
       "\n",
       "    .dataframe tbody tr th {\n",
       "        vertical-align: top;\n",
       "    }\n",
       "\n",
       "    .dataframe thead th {\n",
       "        text-align: right;\n",
       "    }\n",
       "</style>\n",
       "<table border=\"1\" class=\"dataframe\">\n",
       "  <thead>\n",
       "    <tr style=\"text-align: right;\">\n",
       "      <th></th>\n",
       "      <th>age</th>\n",
       "      <th>fnlwgt</th>\n",
       "      <th>education-num</th>\n",
       "      <th>capital-gain</th>\n",
       "      <th>capital-loss</th>\n",
       "      <th>hours-per-week</th>\n",
       "      <th>workclass_?</th>\n",
       "      <th>workclass_Federal-gov</th>\n",
       "      <th>workclass_Local-gov</th>\n",
       "      <th>workclass_Never-worked</th>\n",
       "      <th>...</th>\n",
       "      <th>native-country_Portugal</th>\n",
       "      <th>native-country_Puerto-Rico</th>\n",
       "      <th>native-country_Scotland</th>\n",
       "      <th>native-country_South</th>\n",
       "      <th>native-country_Taiwan</th>\n",
       "      <th>native-country_Thailand</th>\n",
       "      <th>native-country_Trinadad&amp;Tobago</th>\n",
       "      <th>native-country_United-States</th>\n",
       "      <th>native-country_Vietnam</th>\n",
       "      <th>native-country_Yugoslavia</th>\n",
       "    </tr>\n",
       "  </thead>\n",
       "  <tbody>\n",
       "    <tr>\n",
       "      <th>0</th>\n",
       "      <td>39</td>\n",
       "      <td>77516</td>\n",
       "      <td>13</td>\n",
       "      <td>2174</td>\n",
       "      <td>0</td>\n",
       "      <td>40</td>\n",
       "      <td>0</td>\n",
       "      <td>0</td>\n",
       "      <td>0</td>\n",
       "      <td>0</td>\n",
       "      <td>...</td>\n",
       "      <td>0</td>\n",
       "      <td>0</td>\n",
       "      <td>0</td>\n",
       "      <td>0</td>\n",
       "      <td>0</td>\n",
       "      <td>0</td>\n",
       "      <td>0</td>\n",
       "      <td>1</td>\n",
       "      <td>0</td>\n",
       "      <td>0</td>\n",
       "    </tr>\n",
       "    <tr>\n",
       "      <th>1</th>\n",
       "      <td>50</td>\n",
       "      <td>83311</td>\n",
       "      <td>13</td>\n",
       "      <td>0</td>\n",
       "      <td>0</td>\n",
       "      <td>13</td>\n",
       "      <td>0</td>\n",
       "      <td>0</td>\n",
       "      <td>0</td>\n",
       "      <td>0</td>\n",
       "      <td>...</td>\n",
       "      <td>0</td>\n",
       "      <td>0</td>\n",
       "      <td>0</td>\n",
       "      <td>0</td>\n",
       "      <td>0</td>\n",
       "      <td>0</td>\n",
       "      <td>0</td>\n",
       "      <td>1</td>\n",
       "      <td>0</td>\n",
       "      <td>0</td>\n",
       "    </tr>\n",
       "    <tr>\n",
       "      <th>2</th>\n",
       "      <td>38</td>\n",
       "      <td>215646</td>\n",
       "      <td>9</td>\n",
       "      <td>0</td>\n",
       "      <td>0</td>\n",
       "      <td>40</td>\n",
       "      <td>0</td>\n",
       "      <td>0</td>\n",
       "      <td>0</td>\n",
       "      <td>0</td>\n",
       "      <td>...</td>\n",
       "      <td>0</td>\n",
       "      <td>0</td>\n",
       "      <td>0</td>\n",
       "      <td>0</td>\n",
       "      <td>0</td>\n",
       "      <td>0</td>\n",
       "      <td>0</td>\n",
       "      <td>1</td>\n",
       "      <td>0</td>\n",
       "      <td>0</td>\n",
       "    </tr>\n",
       "    <tr>\n",
       "      <th>3</th>\n",
       "      <td>53</td>\n",
       "      <td>234721</td>\n",
       "      <td>7</td>\n",
       "      <td>0</td>\n",
       "      <td>0</td>\n",
       "      <td>40</td>\n",
       "      <td>0</td>\n",
       "      <td>0</td>\n",
       "      <td>0</td>\n",
       "      <td>0</td>\n",
       "      <td>...</td>\n",
       "      <td>0</td>\n",
       "      <td>0</td>\n",
       "      <td>0</td>\n",
       "      <td>0</td>\n",
       "      <td>0</td>\n",
       "      <td>0</td>\n",
       "      <td>0</td>\n",
       "      <td>1</td>\n",
       "      <td>0</td>\n",
       "      <td>0</td>\n",
       "    </tr>\n",
       "    <tr>\n",
       "      <th>4</th>\n",
       "      <td>28</td>\n",
       "      <td>338409</td>\n",
       "      <td>13</td>\n",
       "      <td>0</td>\n",
       "      <td>0</td>\n",
       "      <td>40</td>\n",
       "      <td>0</td>\n",
       "      <td>0</td>\n",
       "      <td>0</td>\n",
       "      <td>0</td>\n",
       "      <td>...</td>\n",
       "      <td>0</td>\n",
       "      <td>0</td>\n",
       "      <td>0</td>\n",
       "      <td>0</td>\n",
       "      <td>0</td>\n",
       "      <td>0</td>\n",
       "      <td>0</td>\n",
       "      <td>0</td>\n",
       "      <td>0</td>\n",
       "      <td>0</td>\n",
       "    </tr>\n",
       "  </tbody>\n",
       "</table>\n",
       "<p>5 rows × 108 columns</p>\n",
       "</div>"
      ],
      "text/plain": [
       "   age  fnlwgt  education-num  capital-gain  capital-loss  hours-per-week  \\\n",
       "0   39   77516             13          2174             0              40   \n",
       "1   50   83311             13             0             0              13   \n",
       "2   38  215646              9             0             0              40   \n",
       "3   53  234721              7             0             0              40   \n",
       "4   28  338409             13             0             0              40   \n",
       "\n",
       "   workclass_?  workclass_Federal-gov  workclass_Local-gov  \\\n",
       "0            0                      0                    0   \n",
       "1            0                      0                    0   \n",
       "2            0                      0                    0   \n",
       "3            0                      0                    0   \n",
       "4            0                      0                    0   \n",
       "\n",
       "   workclass_Never-worked  ...  native-country_Portugal  \\\n",
       "0                       0  ...                        0   \n",
       "1                       0  ...                        0   \n",
       "2                       0  ...                        0   \n",
       "3                       0  ...                        0   \n",
       "4                       0  ...                        0   \n",
       "\n",
       "   native-country_Puerto-Rico  native-country_Scotland  native-country_South  \\\n",
       "0                           0                        0                     0   \n",
       "1                           0                        0                     0   \n",
       "2                           0                        0                     0   \n",
       "3                           0                        0                     0   \n",
       "4                           0                        0                     0   \n",
       "\n",
       "   native-country_Taiwan  native-country_Thailand  \\\n",
       "0                      0                        0   \n",
       "1                      0                        0   \n",
       "2                      0                        0   \n",
       "3                      0                        0   \n",
       "4                      0                        0   \n",
       "\n",
       "   native-country_Trinadad&Tobago  native-country_United-States  \\\n",
       "0                               0                             1   \n",
       "1                               0                             1   \n",
       "2                               0                             1   \n",
       "3                               0                             1   \n",
       "4                               0                             0   \n",
       "\n",
       "   native-country_Vietnam  native-country_Yugoslavia  \n",
       "0                       0                          0  \n",
       "1                       0                          0  \n",
       "2                       0                          0  \n",
       "3                       0                          0  \n",
       "4                       0                          0  \n",
       "\n",
       "[5 rows x 108 columns]"
      ]
     },
     "execution_count": 4,
     "metadata": {},
     "output_type": "execute_result"
    }
   ],
   "source": [
    "X.head()"
   ]
  },
  {
   "cell_type": "code",
   "execution_count": 5,
   "id": "d0a9ec64",
   "metadata": {},
   "outputs": [
    {
     "name": "stdout",
     "output_type": "stream",
     "text": [
      "The shape of X_train is       (26048, 108)\n",
      "The shape of X_test is        (6513, 108)\n",
      "The shape of y_train is       (26048, 1)\n",
      "The shape of y_test is        (6513, 1)\n"
     ]
    }
   ],
   "source": [
    "X_train, X_test, y_train, y_test = train_test_split(X,y, test_size = 0.2, random_state = 42)\n",
    "\n",
    "print(\"The shape of X_train is      \", X_train.shape)\n",
    "print(\"The shape of X_test is       \",X_test.shape)\n",
    "print(\"The shape of y_train is      \",y_train.shape)\n",
    "print(\"The shape of y_test is       \",y_test.shape)"
   ]
  },
  {
   "cell_type": "markdown",
   "id": "15f68b7e",
   "metadata": {},
   "source": [
    "This is the structure of an example or individual, will be use when performing inference in new data, for the moment, we are going to save it as a sheet to be filled :"
   ]
  },
  {
   "cell_type": "code",
   "execution_count": 7,
   "id": "bc323196",
   "metadata": {},
   "outputs": [
    {
     "data": {
      "text/html": [
       "<div>\n",
       "<style scoped>\n",
       "    .dataframe tbody tr th:only-of-type {\n",
       "        vertical-align: middle;\n",
       "    }\n",
       "\n",
       "    .dataframe tbody tr th {\n",
       "        vertical-align: top;\n",
       "    }\n",
       "\n",
       "    .dataframe thead th {\n",
       "        text-align: right;\n",
       "    }\n",
       "</style>\n",
       "<table border=\"1\" class=\"dataframe\">\n",
       "  <thead>\n",
       "    <tr style=\"text-align: right;\">\n",
       "      <th></th>\n",
       "      <th>age</th>\n",
       "      <th>fnlwgt</th>\n",
       "      <th>education-num</th>\n",
       "      <th>capital-gain</th>\n",
       "      <th>capital-loss</th>\n",
       "      <th>hours-per-week</th>\n",
       "      <th>workclass_?</th>\n",
       "      <th>workclass_Federal-gov</th>\n",
       "      <th>workclass_Local-gov</th>\n",
       "      <th>workclass_Never-worked</th>\n",
       "      <th>...</th>\n",
       "      <th>native-country_Portugal</th>\n",
       "      <th>native-country_Puerto-Rico</th>\n",
       "      <th>native-country_Scotland</th>\n",
       "      <th>native-country_South</th>\n",
       "      <th>native-country_Taiwan</th>\n",
       "      <th>native-country_Thailand</th>\n",
       "      <th>native-country_Trinadad&amp;Tobago</th>\n",
       "      <th>native-country_United-States</th>\n",
       "      <th>native-country_Vietnam</th>\n",
       "      <th>native-country_Yugoslavia</th>\n",
       "    </tr>\n",
       "  </thead>\n",
       "  <tbody>\n",
       "    <tr>\n",
       "      <th>0</th>\n",
       "      <td>0</td>\n",
       "      <td>0</td>\n",
       "      <td>0</td>\n",
       "      <td>0</td>\n",
       "      <td>0</td>\n",
       "      <td>0</td>\n",
       "      <td>0</td>\n",
       "      <td>0</td>\n",
       "      <td>0</td>\n",
       "      <td>0</td>\n",
       "      <td>...</td>\n",
       "      <td>0</td>\n",
       "      <td>0</td>\n",
       "      <td>0</td>\n",
       "      <td>0</td>\n",
       "      <td>0</td>\n",
       "      <td>0</td>\n",
       "      <td>0</td>\n",
       "      <td>0</td>\n",
       "      <td>0</td>\n",
       "      <td>0</td>\n",
       "    </tr>\n",
       "  </tbody>\n",
       "</table>\n",
       "<p>1 rows × 108 columns</p>\n",
       "</div>"
      ],
      "text/plain": [
       "   age  fnlwgt  education-num  capital-gain  capital-loss  hours-per-week  \\\n",
       "0    0       0              0             0             0               0   \n",
       "\n",
       "   workclass_?  workclass_Federal-gov  workclass_Local-gov  \\\n",
       "0            0                      0                    0   \n",
       "\n",
       "   workclass_Never-worked  ...  native-country_Portugal  \\\n",
       "0                       0  ...                        0   \n",
       "\n",
       "   native-country_Puerto-Rico  native-country_Scotland  native-country_South  \\\n",
       "0                           0                        0                     0   \n",
       "\n",
       "   native-country_Taiwan  native-country_Thailand  \\\n",
       "0                      0                        0   \n",
       "\n",
       "   native-country_Trinadad&Tobago  native-country_United-States  \\\n",
       "0                               0                             0   \n",
       "\n",
       "   native-country_Vietnam  native-country_Yugoslavia  \n",
       "0                       0                          0  \n",
       "\n",
       "[1 rows x 108 columns]"
      ]
     },
     "execution_count": 7,
     "metadata": {},
     "output_type": "execute_result"
    }
   ],
   "source": [
    "sample_df = pd.DataFrame(data=None, columns=X_train.columns)\n",
    "sample_df\n",
    "\n",
    "sample_df.loc[0] = [0]*len(sample_df.columns)\n",
    "sample_df"
   ]
  },
  {
   "cell_type": "code",
   "execution_count": 8,
   "id": "f0cc805b",
   "metadata": {},
   "outputs": [],
   "source": [
    "pickle.dump(sample_df, open(os.path.join('./data/', \"sample_df.pkl\"), 'wb'))"
   ]
  },
  {
   "cell_type": "markdown",
   "id": "dfcbc18a",
   "metadata": {},
   "source": [
    "## 3 - Modelling"
   ]
  },
  {
   "cell_type": "code",
   "execution_count": 9,
   "id": "c2316f42",
   "metadata": {},
   "outputs": [],
   "source": [
    "#target_names = ['<=50k', '>50k']\n",
    "\n",
    "def train_grid_search_cv(X, y, pipeline, param_grid, scoring, refit=True) : \n",
    "    \n",
    "    cv = RepeatedStratifiedKFold(n_splits=10,\n",
    "                                 n_repeats=3,\n",
    "                                 random_state=1)\n",
    "\n",
    "    grid_search = GridSearchCV(estimator=pipeline,\n",
    "                               param_grid=param_grid,\n",
    "                               scoring=scoring,\n",
    "                               refit=refit,\n",
    "                               cv=cv,\n",
    "                               n_jobs=-1)\n",
    "\n",
    "    grid_result = grid_search.fit(X, y)\n",
    "    \n",
    "    return(grid_result)\n",
    "\n",
    "#scoring = {'acc': 'accuracy',\n",
    "#           'f1': 'f1',\n",
    "#           'roc_AUC': 'roc_auc'}\n",
    "\n",
    "#refit   = 'roc_auc'  \n",
    "\n",
    "scoring = \"roc_auc\""
   ]
  },
  {
   "cell_type": "markdown",
   "id": "195a587f",
   "metadata": {},
   "source": [
    "As we check in the EDA notebook a mild imbalance is present at ~30%. The following code represents the output of the  Synthetic Minority Over-sampling Technique ([SMOTE](https://imbalanced-learn.org/stable/references/generated/imblearn.over_sampling.SMOTE.html)) algorithm in order to improve the relation between the classes"
   ]
  },
  {
   "cell_type": "code",
   "execution_count": 10,
   "id": "da20f6dd",
   "metadata": {},
   "outputs": [],
   "source": [
    "over = SMOTE(sampling_strategy = 0.6)\n",
    "\n",
    "under = RandomUnderSampler(sampling_strategy=0.7)"
   ]
  },
  {
   "cell_type": "code",
   "execution_count": 11,
   "id": "ca72a5cb",
   "metadata": {},
   "outputs": [],
   "source": [
    "X_dummy, y_dummy = over.fit_resample(X_train, y_train)"
   ]
  },
  {
   "cell_type": "code",
   "execution_count": 12,
   "id": "f06463fd",
   "metadata": {},
   "outputs": [],
   "source": [
    "X_dummy, y_dummy = under.fit_resample(X_dummy, y_dummy)"
   ]
  },
  {
   "cell_type": "code",
   "execution_count": 13,
   "id": "288afd39",
   "metadata": {},
   "outputs": [
    {
     "name": "stderr",
     "output_type": "stream",
     "text": [
      "/home/vyago/miniconda3/envs/LSTM/lib/python3.8/site-packages/seaborn/_decorators.py:36: FutureWarning: Pass the following variable as a keyword arg: x. From version 0.12, the only valid positional argument will be `data`, and passing other arguments without an explicit keyword will result in an error or misinterpretation.\n",
      "  warnings.warn(\n",
      "/home/vyago/miniconda3/envs/LSTM/lib/python3.8/site-packages/seaborn/_decorators.py:36: FutureWarning: Pass the following variable as a keyword arg: x. From version 0.12, the only valid positional argument will be `data`, and passing other arguments without an explicit keyword will result in an error or misinterpretation.\n",
      "  warnings.warn(\n"
     ]
    },
    {
     "data": {
      "image/png": "[encoded data removed]",
      "text/plain": [
       "<Figure size 720x216 with 2 Axes>"
      ]
     },
     "metadata": {
      "needs_background": "light"
     },
     "output_type": "display_data"
    }
   ],
   "source": [
    "fig, axs = plt.subplots(1, 2, figsize = (10, 3), sharey = True)\n",
    "sns.countplot(y_train[\"label\"], hue = y_train[\"label\"], ax = axs[0]).set(title='Original');\n",
    "sns.countplot(y_dummy[\"label\"], hue = y_dummy[\"label\"], ax = axs[1]).set(title=\"SMOTE\");\n",
    "plt.show()"
   ]
  },
  {
   "cell_type": "markdown",
   "id": "28819032",
   "metadata": {},
   "source": [
    "### 3.1 - Linear Model"
   ]
  },
  {
   "cell_type": "code",
   "execution_count": 14,
   "id": "fed4e204",
   "metadata": {},
   "outputs": [],
   "source": [
    "model = LogisticRegression(solver='lbfgs', max_iter=200)\n",
    "\n",
    "param_grid={\"logistic__C\":np.logspace(0,3,7),\n",
    "            \"logistic__penalty\":[\"l1\",\"l2\"]}"
   ]
  },
  {
   "cell_type": "markdown",
   "id": "ed556b60",
   "metadata": {},
   "source": [
    "*About '**saga**' choice as solver : [‘liblinear’ is a good choice, whereas ‘sag’ and ‘saga’ are faster for large ones;](https://scikit-learn.org/stable/modules/generated/sklearn.linear_model.LogisticRegression.html)*"
   ]
  },
  {
   "cell_type": "markdown",
   "id": "dc4a7729",
   "metadata": {},
   "source": [
    "* Imbalanced dataset "
   ]
  },
  {
   "cell_type": "code",
   "execution_count": null,
   "id": "1b3d097b",
   "metadata": {},
   "outputs": [],
   "source": [
    "pipeline = Pipeline(steps=[(\"scaler\", RobustScaler()),\n",
    "                           (\"logistic\", model)])\n",
    "\n",
    "grid_result_logistic = train_grid_search_cv(X_train, y_train.values.ravel(),\n",
    "                                            pipeline,\n",
    "                                            param_grid,\n",
    "                                            scoring)"
   ]
  },
  {
   "cell_type": "code",
   "execution_count": null,
   "id": "7268a4bf",
   "metadata": {},
   "outputs": [],
   "source": [
    "print(\"Best: %f using %s\" % (grid_result_logistic.best_score_, grid_result_logistic.best_params_))"
   ]
  },
  {
   "cell_type": "markdown",
   "id": "5282fb65",
   "metadata": {},
   "source": [
    "* SMOTE'd"
   ]
  },
  {
   "cell_type": "code",
   "execution_count": null,
   "id": "19497233",
   "metadata": {},
   "outputs": [],
   "source": [
    "steps = [(\"scaler\", RobustScaler()),\n",
    "         ('over', over),\n",
    "         ('under', under),\n",
    "         ('logistic', model)]\n",
    "\n",
    "pipeline = Pipeline(steps=steps)\n",
    "\n",
    "grid_result_logistic_SMOTE = train_grid_search_cv(X_train, y_train.values.ravel(),\n",
    "                                                  pipeline,\n",
    "                                                  param_grid,\n",
    "                                                  scoring)"
   ]
  },
  {
   "cell_type": "code",
   "execution_count": null,
   "id": "b456aad6",
   "metadata": {},
   "outputs": [],
   "source": [
    "# summarize results\n",
    "print(\"Best: %f using %s\" % (grid_result_logistic_SMOTE.best_score_,\n",
    "                             grid_result_logistic_SMOTE.best_params_))"
   ]
  },
  {
   "cell_type": "markdown",
   "id": "774cb550",
   "metadata": {},
   "source": [
    "* Comparison"
   ]
  },
  {
   "cell_type": "code",
   "execution_count": null,
   "id": "84a53212",
   "metadata": {},
   "outputs": [],
   "source": [
    "logistic_fit       = grid_result_logistic.fit(X_train, y_train)\n",
    "logistic_fit_SMOTE = grid_result_logistic_SMOTE.fit(X_train, y_train)"
   ]
  },
  {
   "cell_type": "code",
   "execution_count": null,
   "id": "8392c5ba",
   "metadata": {},
   "outputs": [],
   "source": [
    "logifit_disp       = plot_roc_curve(logistic_fit, X_test, y_test) \n",
    "logifit_disp_SMOTE = plot_roc_curve(logistic_fit_SMOTE, X_test, y_test, ax = logifit_disp.ax_) \n",
    "plt.show()"
   ]
  },
  {
   "cell_type": "markdown",
   "id": "f95c7fd3",
   "metadata": {},
   "source": [
    "We can see that the SMOTE approach did litte improvement in the model."
   ]
  },
  {
   "cell_type": "code",
   "execution_count": null,
   "id": "3452839b",
   "metadata": {},
   "outputs": [],
   "source": [
    "pickle.dump(logistic_fit, open(os.path.join(model_dir, \"logistic_fit.pkl\"), 'wb'))\n",
    "pickle.dump(logistic_fit_SMOTE, open(os.path.join(model_dir, \"logistic_fit_SMOTE.pkl\"), 'wb'))"
   ]
  },
  {
   "cell_type": "markdown",
   "id": "08749f5f",
   "metadata": {},
   "source": [
    "### 3.3 Gradient Model"
   ]
  },
  {
   "cell_type": "code",
   "execution_count": null,
   "id": "94f579f2",
   "metadata": {},
   "outputs": [],
   "source": [
    "model  = GradientBoostingClassifier(max_depth=3,\n",
    "                                    subsample=0.8,\n",
    "                                    max_features='auto',\n",
    "                                    random_state=42)\n",
    "\n",
    "param_grid={'gbm__learning_rate':[0.5, 0.1, 0.01],\n",
    "            'gbm__n_estimators':[100, 500, 1000]\n",
    "            \n",
    "            #'gbm__max_depth': np.linspace(5, 32, 3, endpoint=True)\n",
    "           \n",
    "           }"
   ]
  },
  {
   "cell_type": "markdown",
   "id": "2650c14d",
   "metadata": {},
   "source": [
    "* Imbalanced dataset"
   ]
  },
  {
   "cell_type": "code",
   "execution_count": null,
   "id": "c0783deb",
   "metadata": {},
   "outputs": [],
   "source": [
    "pipeline = Pipeline(steps=[(\"scaler\", RobustScaler()),\n",
    "                           (\"gbm\", model)])\n",
    "\n",
    "grid_result_gbm = train_grid_search_cv(X_train, y_train.values.ravel(),\n",
    "                                       pipeline,\n",
    "                                       param_grid,\n",
    "                                       scoring)"
   ]
  },
  {
   "cell_type": "code",
   "execution_count": null,
   "id": "9fba6f01",
   "metadata": {
    "scrolled": true
   },
   "outputs": [],
   "source": [
    "print(\"Best: %f using %s\" % (grid_result_gbm.best_score_, grid_result_gbm.best_params_))"
   ]
  },
  {
   "cell_type": "markdown",
   "id": "9840798c",
   "metadata": {},
   "source": [
    "* SMOTE"
   ]
  },
  {
   "cell_type": "code",
   "execution_count": null,
   "id": "c09f477d",
   "metadata": {},
   "outputs": [],
   "source": [
    "steps = [(\"scaler\", RobustScaler()),\n",
    "         ('over', over),\n",
    "         ('under', under),\n",
    "         ('gbm', model)]\n",
    "\n",
    "pipeline = Pipeline(steps=steps)\n",
    "\n",
    "grid_result_gbm_SMOTE = train_grid_search_cv(X_train, y_train.values.ravel(),\n",
    "                                             pipeline,\n",
    "                                             param_grid,\n",
    "                                             scoring)"
   ]
  },
  {
   "cell_type": "code",
   "execution_count": null,
   "id": "eafc385d",
   "metadata": {
    "scrolled": true
   },
   "outputs": [],
   "source": [
    "# summarize results\n",
    "print(\"Best: %f using %s\" % (grid_result_gbm_SMOTE.best_score_, grid_result_gbm_SMOTE.best_params_))"
   ]
  },
  {
   "cell_type": "markdown",
   "id": "457020fd",
   "metadata": {},
   "source": [
    "* Comparison"
   ]
  },
  {
   "cell_type": "code",
   "execution_count": null,
   "id": "75dccc73",
   "metadata": {},
   "outputs": [],
   "source": [
    "gbm_fit       = grid_result_gbm.fit(X_train, y_train)\n",
    "gbm_fit_SMOTE = grid_result_gbm_SMOTE.fit(X_train, y_train)"
   ]
  },
  {
   "cell_type": "code",
   "execution_count": null,
   "id": "80c122bb",
   "metadata": {},
   "outputs": [],
   "source": [
    "gbm_disp       = plot_roc_curve(gbm_fit, X_test, y_test) \n",
    "gbm_disp_SMOTE = plot_roc_curve(gbm_fit_SMOTE, X_test, y_test, ax = gbm_disp.ax_) \n",
    "plt.show()"
   ]
  },
  {
   "cell_type": "code",
   "execution_count": null,
   "id": "f03f87d8",
   "metadata": {},
   "outputs": [],
   "source": [
    "pickle.dump(gbm_fit, open(os.path.join(model_dir, \"gbm_fit.pkl\"), 'wb'))\n",
    "pickle.dump(gbm_fit_SMOTE, open(os.path.join(model_dir, \"gbm_fit_SMOTE.pkl\"), 'wb'))"
   ]
  },
  {
   "cell_type": "markdown",
   "id": "912f9cca",
   "metadata": {},
   "source": [
    "## 4- Final model"
   ]
  },
  {
   "cell_type": "markdown",
   "id": "6b22177d",
   "metadata": {},
   "source": [
    "Next the final model is trained with all the training data."
   ]
  },
  {
   "cell_type": "code",
   "execution_count": null,
   "id": "da1377c5",
   "metadata": {},
   "outputs": [],
   "source": [
    "grid_result.best_params_"
   ]
  },
  {
   "cell_type": "code",
   "execution_count": null,
   "id": "f82d0234",
   "metadata": {},
   "outputs": [],
   "source": [
    "best_learning_rate = grid_result.best_params_['gbm__learning_rate']\n",
    "best_n_estimators  = grid_result.best_params_['gbm__n_estimators']\n",
    "\n",
    "model = GradientBoostingClassifier(max_depth=3,\n",
    "                                    subsample=0.8,\n",
    "                                    max_features='auto',\n",
    "                                    random_state=42,\n",
    "                                    learning_rate=best_learning_rate,\n",
    "                                    n_estimators=best_n_estimators)\n",
    "\n",
    "steps = [(\"scaler\", RobustScaler()),\n",
    "         ('over', over),\n",
    "         ('under', under),\n",
    "         ('gbm', model)]\n",
    "\n",
    "pipeline = Pipeline(steps=steps)\n",
    "model_fit = pipeline.fit(X,y)"
   ]
  },
  {
   "cell_type": "code",
   "execution_count": null,
   "id": "1cc22db5",
   "metadata": {},
   "outputs": [],
   "source": [
    "y_hat = model_fit.predict(X)\n",
    "roc_auc_score(y, y_hat)"
   ]
  },
  {
   "cell_type": "code",
   "execution_count": null,
   "id": "2c65f455",
   "metadata": {},
   "outputs": [],
   "source": [
    "cm = confusion_matrix(y, y_hat)\n",
    "disp = ConfusionMatrixDisplay(confusion_matrix=cm,\n",
    "                              display_labels=model_fit.classes_)\n",
    "disp.plot()\n",
    "plt.show()"
   ]
  }
 ],
 "metadata": {
  "kernelspec": {
   "display_name": "LSTM",
   "language": "python",
   "name": "lstm"
  },
  "language_info": {
   "codemirror_mode": {
    "name": "ipython",
    "version": 3
   },
   "file_extension": ".py",
   "mimetype": "text/x-python",
   "name": "python",
   "nbconvert_exporter": "python",
   "pygments_lexer": "ipython3",
   "version": "3.8.12"
  }
 },
 "nbformat": 4,
 "nbformat_minor": 5
}
